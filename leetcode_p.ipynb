{
  "nbformat": 4,
  "nbformat_minor": 0,
  "metadata": {
    "colab": {
      "provenance": [],
      "authorship_tag": "ABX9TyPl8flx+3J757SmaOsEg+Hk",
      "include_colab_link": true
    },
    "kernelspec": {
      "name": "python3",
      "display_name": "Python 3"
    },
    "language_info": {
      "name": "python"
    }
  },
  "cells": [
    {
      "cell_type": "markdown",
      "metadata": {
        "id": "view-in-github",
        "colab_type": "text"
      },
      "source": [
        "<a href=\"https://colab.research.google.com/github/Ramisetty-shasank-teja/leetcode_problems/blob/main/leetcode_p.ipynb\" target=\"_parent\"><img src=\"https://colab.research.google.com/assets/colab-badge.svg\" alt=\"Open In Colab\"/></a>"
      ]
    },
    {
      "cell_type": "code",
      "source": [
        "'''Given an integer array nums, return an array answer such that answer[i] is equal to the product of all the elements of nums except nums[i].\n",
        "\n",
        "The product of any prefix or suffix of nums is guaranteed to fit in a 32-bit integer.\n",
        "\n",
        "You must write an algorithm that runs in O(n) time and without using the division operation.'''\n",
        "def productOfArrayExceptSelf(nums):\n",
        "    n=len(nums)\n",
        "    answer=[1]*n\n",
        "    prefix=1\n",
        "    for i in range(n):\n",
        "        answer[i]=prefix\n",
        "        prefix*=prefix\n",
        "    suffix=1\n",
        "    for i in range(n-1,-1,-1):\n",
        "        answer[i]*=suffix\n",
        "        suffix*=nums[i]\n",
        "    return answer\n",
        "nums=[1,2,3,4,5]\n",
        "print(productOfArrayExceptSelf(nums))"
      ],
      "metadata": {
        "colab": {
          "base_uri": "https://localhost:8080/"
        },
        "id": "vGm5I2FYVfFI",
        "outputId": "f5c1135c-5b48-4e43-ca5a-334c45e93747"
      },
      "execution_count": 3,
      "outputs": [
        {
          "output_type": "stream",
          "name": "stdout",
          "text": [
            "[120, 60, 20, 5, 1]\n"
          ]
        }
      ]
    },
    {
      "cell_type": "code",
      "source": [
        "#Given an integer array nums, return true if there exists a triple of indices (i, j, k) such that i < j < k and nums[i] < nums[j] < nums[k]. If no such indices exists, return false.\n",
        "class Solution:\n",
        "    def increasingTriplet(self, nums) -> bool:\n",
        "        first=second=float(\"inf\")\n",
        "        for num in nums:\n",
        "            if num <= first:\n",
        "                first=num\n",
        "            elif num <=second:\n",
        "                second=num\n",
        "            else:\n",
        "                return True\n",
        "        return False\n",
        "s1=Solution()\n",
        "nums=[1,2,3,4,5]\n",
        "print(s1.increasingTriplet(nums))"
      ],
      "metadata": {
        "colab": {
          "base_uri": "https://localhost:8080/"
        },
        "id": "GX3pBvrfLJTa",
        "outputId": "e5ddd76d-a333-4598-eeaa-77af618a702c"
      },
      "execution_count": 2,
      "outputs": [
        {
          "output_type": "stream",
          "name": "stdout",
          "text": [
            "True\n"
          ]
        }
      ]
    },
    {
      "cell_type": "code",
      "execution_count": null,
      "metadata": {
        "colab": {
          "base_uri": "https://localhost:8080/"
        },
        "id": "cKh6yLJ7LK8-",
        "outputId": "761dee8f-8424-4b89-cb63-0ec8fe0194e7"
      },
      "outputs": [
        {
          "output_type": "stream",
          "name": "stdout",
          "text": [
            "Enter a string  :pwdpe\n",
            "4\n"
          ]
        }
      ],
      "source": [
        "# longest sub string\n",
        "def  longest_substring(s):\n",
        "    seen=set()\n",
        "    left=0\n",
        "    max_len=0\n",
        "    for right in range(len(s)):\n",
        "        while s[right] in seen:\n",
        "            seen.remove(s[left])\n",
        "            left+=1\n",
        "        seen.add(s[right])\n",
        "        max_len=max(max_len,right-left+1)\n",
        "    return max_len\n",
        "str=input(\"Enter a string  :\")\n",
        "print(longest_substring(str))"
      ]
    }
  ]
}