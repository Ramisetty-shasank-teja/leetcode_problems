{
  "nbformat": 4,
  "nbformat_minor": 0,
  "metadata": {
    "colab": {
      "provenance": [],
      "authorship_tag": "ABX9TyO1YgdimuOXOtc6ZP96tq31",
      "include_colab_link": true
    },
    "kernelspec": {
      "name": "python3",
      "display_name": "Python 3"
    },
    "language_info": {
      "name": "python"
    }
  },
  "cells": [
    {
      "cell_type": "markdown",
      "metadata": {
        "id": "view-in-github",
        "colab_type": "text"
      },
      "source": [
        "<a href=\"https://colab.research.google.com/github/Ramisetty-shasank-teja/leetcode_problems/blob/main/leetcode_p.ipynb\" target=\"_parent\"><img src=\"https://colab.research.google.com/assets/colab-badge.svg\" alt=\"Open In Colab\"/></a>"
      ]
    },
    {
      "cell_type": "code",
      "execution_count": null,
      "metadata": {
        "colab": {
          "base_uri": "https://localhost:8080/"
        },
        "id": "cKh6yLJ7LK8-",
        "outputId": "761dee8f-8424-4b89-cb63-0ec8fe0194e7"
      },
      "outputs": [
        {
          "output_type": "stream",
          "name": "stdout",
          "text": [
            "Enter a string  :pwdpe\n",
            "4\n"
          ]
        }
      ],
      "source": [
        "# longest sub string\n",
        "def  longest_substring(s):\n",
        "    seen=set()\n",
        "    left=0\n",
        "    max_len=0\n",
        "    for right in range(len(s)):\n",
        "        while s[right] in seen:\n",
        "            seen.remove(s[left])\n",
        "            left+=1\n",
        "        seen.add(s[right])\n",
        "        max_len=max(max_len,right-left+1)\n",
        "    return max_len\n",
        "str=input(\"Enter a string  :\")\n",
        "print(longest_substring(str))"
      ]
    }
  ]
}